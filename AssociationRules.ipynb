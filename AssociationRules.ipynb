{
 "cells": [
  {
   "cell_type": "markdown",
   "id": "1f79cd5e-4e5c-4698-b62b-a9d8e9219e19",
   "metadata": {},
   "source": [
    "# Imports"
   ]
  },
  {
   "cell_type": "code",
   "execution_count": 1,
   "id": "9b774ebf-61da-40c9-a6d5-2978de77d7ee",
   "metadata": {},
   "outputs": [],
   "source": [
    "from random import choice\n",
    "from random import randint\n",
    "from pandas import DataFrame as Table\n",
    "from itertools import permutations"
   ]
  },
  {
   "cell_type": "markdown",
   "id": "13bbd9de-0c4e-4b65-b3d4-55d5b8e01b47",
   "metadata": {},
   "source": [
    "# Itemset"
   ]
  },
  {
   "cell_type": "code",
   "execution_count": 2,
   "id": "7072a42c-ba47-4627-9641-9ff7252e06e6",
   "metadata": {},
   "outputs": [],
   "source": [
    "ITEMS = set(['l1','l2','l3','l4','l5'])"
   ]
  },
  {
   "cell_type": "code",
   "execution_count": 3,
   "id": "e263c1b6-5ba0-4b73-8cc3-4d6fea1b9911",
   "metadata": {},
   "outputs": [
    {
     "data": {
      "text/plain": [
       "{'l1', 'l2', 'l3', 'l4', 'l5'}"
      ]
     },
     "execution_count": 3,
     "metadata": {},
     "output_type": "execute_result"
    }
   ],
   "source": [
    "ITEMS"
   ]
  },
  {
   "cell_type": "markdown",
   "id": "7e6006f5-e529-438a-848c-1432533b4a33",
   "metadata": {},
   "source": [
    "# Generating a random transaction dataset"
   ]
  },
  {
   "cell_type": "code",
   "execution_count": 4,
   "id": "e4718259-26fb-4814-817c-d414c07d8f7f",
   "metadata": {},
   "outputs": [],
   "source": [
    "def generate_random_transactional_dataset(items,min_samples=1,max_samples=10,entries=20):\n",
    "    \n",
    "    Td_list = [set([choice(list(items)) for _ in range(randint(min_samples,max_samples))]) for _ in range(entries)]\n",
    "    Td_dict = {}\n",
    "    \n",
    "    for s in Td_list:\n",
    "        if frozenset(s) not in Td_dict.keys():\n",
    "            Td_dict[frozenset(s)] = 1\n",
    "        else:\n",
    "            Td_dict[frozenset(s)] += 1\n",
    "            \n",
    "    return Td_list,Td_dict\n",
    "\n",
    "Td_list,Td_dict = generate_random_transactional_dataset(ITEMS)"
   ]
  },
  {
   "cell_type": "code",
   "execution_count": 5,
   "id": "5d874a3f-261e-4300-956f-ef942d4a36f0",
   "metadata": {},
   "outputs": [
    {
     "data": {
      "text/plain": [
       "[{'l2', 'l3'},\n",
       " {'l2', 'l3', 'l4', 'l5'},\n",
       " {'l2'},\n",
       " {'l1', 'l2', 'l3', 'l4'},\n",
       " {'l1', 'l2', 'l3', 'l4', 'l5'},\n",
       " {'l2', 'l4', 'l5'},\n",
       " {'l1', 'l4'},\n",
       " {'l1', 'l2', 'l3', 'l5'},\n",
       " {'l1', 'l2', 'l3', 'l5'},\n",
       " {'l1', 'l3', 'l5'},\n",
       " {'l1', 'l2', 'l4', 'l5'},\n",
       " {'l1', 'l4'},\n",
       " {'l5'},\n",
       " {'l2', 'l3', 'l4', 'l5'},\n",
       " {'l1'},\n",
       " {'l1', 'l3'},\n",
       " {'l1', 'l3', 'l5'},\n",
       " {'l2', 'l3', 'l5'},\n",
       " {'l1', 'l2', 'l3', 'l4', 'l5'},\n",
       " {'l1', 'l3', 'l4', 'l5'}]"
      ]
     },
     "execution_count": 5,
     "metadata": {},
     "output_type": "execute_result"
    }
   ],
   "source": [
    "Td_list"
   ]
  },
  {
   "cell_type": "code",
   "execution_count": 6,
   "id": "76c52725-bc55-4517-827d-696a5ed849bd",
   "metadata": {},
   "outputs": [
    {
     "data": {
      "text/plain": [
       "{frozenset({'l2', 'l3'}): 1,\n",
       " frozenset({'l2', 'l3', 'l4', 'l5'}): 2,\n",
       " frozenset({'l2'}): 1,\n",
       " frozenset({'l1', 'l2', 'l3', 'l4'}): 1,\n",
       " frozenset({'l1', 'l2', 'l3', 'l4', 'l5'}): 2,\n",
       " frozenset({'l2', 'l4', 'l5'}): 1,\n",
       " frozenset({'l1', 'l4'}): 2,\n",
       " frozenset({'l1', 'l2', 'l3', 'l5'}): 2,\n",
       " frozenset({'l1', 'l3', 'l5'}): 2,\n",
       " frozenset({'l1', 'l2', 'l4', 'l5'}): 1,\n",
       " frozenset({'l5'}): 1,\n",
       " frozenset({'l1'}): 1,\n",
       " frozenset({'l1', 'l3'}): 1,\n",
       " frozenset({'l2', 'l3', 'l5'}): 1,\n",
       " frozenset({'l1', 'l3', 'l4', 'l5'}): 1}"
      ]
     },
     "execution_count": 6,
     "metadata": {},
     "output_type": "execute_result"
    }
   ],
   "source": [
    "Td_dict"
   ]
  },
  {
   "cell_type": "markdown",
   "id": "94d99b0b-ceba-433f-ba87-c4d80c45fa64",
   "metadata": {},
   "source": [
    "# One hot encoding"
   ]
  },
  {
   "cell_type": "code",
   "execution_count": 7,
   "id": "2849a42a-3b2f-4475-a485-b9b70448b570",
   "metadata": {},
   "outputs": [],
   "source": [
    "def one_hot_encoding(items, Td_list):\n",
    "    items = list(items)\n",
    "    items.sort()\n",
    "    return Table([{ it : it in tr  for it in items} for tr in Td_list])\n",
    "\n",
    "Td_table = one_hot_encoding(ITEMS,Td_list)"
   ]
  },
  {
   "cell_type": "code",
   "execution_count": 8,
   "id": "f65a445b-3eb7-4cb7-9084-ac0671758681",
   "metadata": {},
   "outputs": [
    {
     "data": {
      "text/html": [
       "<div>\n",
       "<style scoped>\n",
       "    .dataframe tbody tr th:only-of-type {\n",
       "        vertical-align: middle;\n",
       "    }\n",
       "\n",
       "    .dataframe tbody tr th {\n",
       "        vertical-align: top;\n",
       "    }\n",
       "\n",
       "    .dataframe thead th {\n",
       "        text-align: right;\n",
       "    }\n",
       "</style>\n",
       "<table border=\"1\" class=\"dataframe\">\n",
       "  <thead>\n",
       "    <tr style=\"text-align: right;\">\n",
       "      <th></th>\n",
       "      <th>l1</th>\n",
       "      <th>l2</th>\n",
       "      <th>l3</th>\n",
       "      <th>l4</th>\n",
       "      <th>l5</th>\n",
       "    </tr>\n",
       "  </thead>\n",
       "  <tbody>\n",
       "    <tr>\n",
       "      <th>0</th>\n",
       "      <td>False</td>\n",
       "      <td>True</td>\n",
       "      <td>True</td>\n",
       "      <td>False</td>\n",
       "      <td>False</td>\n",
       "    </tr>\n",
       "    <tr>\n",
       "      <th>1</th>\n",
       "      <td>False</td>\n",
       "      <td>True</td>\n",
       "      <td>True</td>\n",
       "      <td>True</td>\n",
       "      <td>True</td>\n",
       "    </tr>\n",
       "    <tr>\n",
       "      <th>2</th>\n",
       "      <td>False</td>\n",
       "      <td>True</td>\n",
       "      <td>False</td>\n",
       "      <td>False</td>\n",
       "      <td>False</td>\n",
       "    </tr>\n",
       "    <tr>\n",
       "      <th>3</th>\n",
       "      <td>True</td>\n",
       "      <td>True</td>\n",
       "      <td>True</td>\n",
       "      <td>True</td>\n",
       "      <td>False</td>\n",
       "    </tr>\n",
       "    <tr>\n",
       "      <th>4</th>\n",
       "      <td>True</td>\n",
       "      <td>True</td>\n",
       "      <td>True</td>\n",
       "      <td>True</td>\n",
       "      <td>True</td>\n",
       "    </tr>\n",
       "    <tr>\n",
       "      <th>5</th>\n",
       "      <td>False</td>\n",
       "      <td>True</td>\n",
       "      <td>False</td>\n",
       "      <td>True</td>\n",
       "      <td>True</td>\n",
       "    </tr>\n",
       "    <tr>\n",
       "      <th>6</th>\n",
       "      <td>True</td>\n",
       "      <td>False</td>\n",
       "      <td>False</td>\n",
       "      <td>True</td>\n",
       "      <td>False</td>\n",
       "    </tr>\n",
       "    <tr>\n",
       "      <th>7</th>\n",
       "      <td>True</td>\n",
       "      <td>True</td>\n",
       "      <td>True</td>\n",
       "      <td>False</td>\n",
       "      <td>True</td>\n",
       "    </tr>\n",
       "    <tr>\n",
       "      <th>8</th>\n",
       "      <td>True</td>\n",
       "      <td>True</td>\n",
       "      <td>True</td>\n",
       "      <td>False</td>\n",
       "      <td>True</td>\n",
       "    </tr>\n",
       "    <tr>\n",
       "      <th>9</th>\n",
       "      <td>True</td>\n",
       "      <td>False</td>\n",
       "      <td>True</td>\n",
       "      <td>False</td>\n",
       "      <td>True</td>\n",
       "    </tr>\n",
       "    <tr>\n",
       "      <th>10</th>\n",
       "      <td>True</td>\n",
       "      <td>True</td>\n",
       "      <td>False</td>\n",
       "      <td>True</td>\n",
       "      <td>True</td>\n",
       "    </tr>\n",
       "    <tr>\n",
       "      <th>11</th>\n",
       "      <td>True</td>\n",
       "      <td>False</td>\n",
       "      <td>False</td>\n",
       "      <td>True</td>\n",
       "      <td>False</td>\n",
       "    </tr>\n",
       "    <tr>\n",
       "      <th>12</th>\n",
       "      <td>False</td>\n",
       "      <td>False</td>\n",
       "      <td>False</td>\n",
       "      <td>False</td>\n",
       "      <td>True</td>\n",
       "    </tr>\n",
       "    <tr>\n",
       "      <th>13</th>\n",
       "      <td>False</td>\n",
       "      <td>True</td>\n",
       "      <td>True</td>\n",
       "      <td>True</td>\n",
       "      <td>True</td>\n",
       "    </tr>\n",
       "    <tr>\n",
       "      <th>14</th>\n",
       "      <td>True</td>\n",
       "      <td>False</td>\n",
       "      <td>False</td>\n",
       "      <td>False</td>\n",
       "      <td>False</td>\n",
       "    </tr>\n",
       "    <tr>\n",
       "      <th>15</th>\n",
       "      <td>True</td>\n",
       "      <td>False</td>\n",
       "      <td>True</td>\n",
       "      <td>False</td>\n",
       "      <td>False</td>\n",
       "    </tr>\n",
       "    <tr>\n",
       "      <th>16</th>\n",
       "      <td>True</td>\n",
       "      <td>False</td>\n",
       "      <td>True</td>\n",
       "      <td>False</td>\n",
       "      <td>True</td>\n",
       "    </tr>\n",
       "    <tr>\n",
       "      <th>17</th>\n",
       "      <td>False</td>\n",
       "      <td>True</td>\n",
       "      <td>True</td>\n",
       "      <td>False</td>\n",
       "      <td>True</td>\n",
       "    </tr>\n",
       "    <tr>\n",
       "      <th>18</th>\n",
       "      <td>True</td>\n",
       "      <td>True</td>\n",
       "      <td>True</td>\n",
       "      <td>True</td>\n",
       "      <td>True</td>\n",
       "    </tr>\n",
       "    <tr>\n",
       "      <th>19</th>\n",
       "      <td>True</td>\n",
       "      <td>False</td>\n",
       "      <td>True</td>\n",
       "      <td>True</td>\n",
       "      <td>True</td>\n",
       "    </tr>\n",
       "  </tbody>\n",
       "</table>\n",
       "</div>"
      ],
      "text/plain": [
       "       l1     l2     l3     l4     l5\n",
       "0   False   True   True  False  False\n",
       "1   False   True   True   True   True\n",
       "2   False   True  False  False  False\n",
       "3    True   True   True   True  False\n",
       "4    True   True   True   True   True\n",
       "5   False   True  False   True   True\n",
       "6    True  False  False   True  False\n",
       "7    True   True   True  False   True\n",
       "8    True   True   True  False   True\n",
       "9    True  False   True  False   True\n",
       "10   True   True  False   True   True\n",
       "11   True  False  False   True  False\n",
       "12  False  False  False  False   True\n",
       "13  False   True   True   True   True\n",
       "14   True  False  False  False  False\n",
       "15   True  False   True  False  False\n",
       "16   True  False   True  False   True\n",
       "17  False   True   True  False   True\n",
       "18   True   True   True   True   True\n",
       "19   True  False   True   True   True"
      ]
     },
     "execution_count": 8,
     "metadata": {},
     "output_type": "execute_result"
    }
   ],
   "source": [
    "Td_table"
   ]
  },
  {
   "cell_type": "markdown",
   "id": "2e54400a-40ab-467f-b286-f01682c75ac5",
   "metadata": {},
   "source": [
    "# Support"
   ]
  },
  {
   "cell_type": "code",
   "execution_count": 9,
   "id": "1e6eed82-2e92-4f62-97f4-9bf783fe8671",
   "metadata": {},
   "outputs": [],
   "source": [
    "def support(Td_table,tr):\n",
    "    tr = list(it for it in tr)\n",
    "    filtered = Td_table\n",
    "    for it in tr:\n",
    "        filtered = filtered.loc[lambda x : x[it]]\n",
    "    return filtered[tr].shape[0] / Td_table.shape[0]"
   ]
  },
  {
   "cell_type": "markdown",
   "id": "3720cd56-b95e-431f-9ba5-cb02c2e8341d",
   "metadata": {},
   "source": [
    "# A priori algorithm"
   ]
  },
  {
   "cell_type": "code",
   "execution_count": 10,
   "id": "bfe7d86b-f8ee-475a-ab69-67ceae9cf1d8",
   "metadata": {},
   "outputs": [
    {
     "data": {
      "text/plain": [
       "{frozenset({'l5'}),\n",
       " frozenset({'l3'}),\n",
       " frozenset({'l2', 'l3'}),\n",
       " frozenset({'l1'}),\n",
       " frozenset({'l1', 'l3'}),\n",
       " frozenset({'l1', 'l2', 'l3'}),\n",
       " frozenset({'l1', 'l2', 'l5'}),\n",
       " frozenset({'l3', 'l5'}),\n",
       " frozenset({'l4'}),\n",
       " frozenset({'l4', 'l5'}),\n",
       " frozenset({'l2'}),\n",
       " frozenset({'l2', 'l4'}),\n",
       " frozenset({'l2', 'l4', 'l5'}),\n",
       " frozenset({'l3', 'l4'}),\n",
       " frozenset({'l2', 'l3', 'l5'}),\n",
       " frozenset({'l2', 'l3', 'l4'}),\n",
       " frozenset({'l3', 'l4', 'l5'}),\n",
       " frozenset({'l2', 'l5'}),\n",
       " frozenset({'l1', 'l2'}),\n",
       " frozenset({'l1', 'l5'}),\n",
       " frozenset({'l1', 'l3', 'l5'}),\n",
       " frozenset({'l1', 'l4'})}"
      ]
     },
     "execution_count": 10,
     "metadata": {},
     "output_type": "execute_result"
    }
   ],
   "source": [
    "def next_candidates(Fi_k,items):\n",
    "    \n",
    "    # Generate all possibile combinations of each element of Fi_k with another one of items\n",
    "    unique_combinations = []\n",
    "    for tr in Fi_k:\n",
    "        for it in items.difference(tr):\n",
    "            combination = tr.copy()\n",
    "            combination.add(it)\n",
    "            if combination not in unique_combinations:\n",
    "                unique_combinations.append(combination)\n",
    "\n",
    "    # Prune candidates\n",
    "    candidates = []\n",
    "    \n",
    "    for combination in unique_combinations:\n",
    "\n",
    "        discard_transaction = False\n",
    "        \n",
    "        # Generate all possible proper subsets\n",
    "        for it in combination:\n",
    "            max_proper_subset = combination.copy()\n",
    "            max_proper_subset.discard(it)\n",
    "\n",
    "            # Consequence 2 : k-size candidate\n",
    "            if max_proper_subset not in Fi_k:\n",
    "                discard_transaction = True\n",
    "                break\n",
    "        \n",
    "        if not discard_transaction:\n",
    "            candidates.append(combination)\n",
    "\n",
    "    return candidates\n",
    "\n",
    "def Apriori(Td_table,epsilon,items):\n",
    "\n",
    "    Fi = set()\n",
    "    candidates = [set([it]) for it in items]\n",
    "    \n",
    "    while True:\n",
    "        Fi_k = [tr for tr in candidates if support(Td_table,tr)>epsilon]\n",
    "        Fi = Fi.union(set([frozenset(tr) for tr in Fi_k]))\n",
    "        candidates = next_candidates(Fi_k,items)\n",
    "        if not candidates:\n",
    "            break\n",
    "    return Fi\n",
    "\n",
    "Fi = Apriori(Td_table,0.2,ITEMS)\n",
    "Fi"
   ]
  }
 ],
 "metadata": {
  "kernelspec": {
   "display_name": "Python 3 (ipykernel)",
   "language": "python",
   "name": "python3"
  },
  "language_info": {
   "codemirror_mode": {
    "name": "ipython",
    "version": 3
   },
   "file_extension": ".py",
   "mimetype": "text/x-python",
   "name": "python",
   "nbconvert_exporter": "python",
   "pygments_lexer": "ipython3",
   "version": "3.10.12"
  }
 },
 "nbformat": 4,
 "nbformat_minor": 5
}
