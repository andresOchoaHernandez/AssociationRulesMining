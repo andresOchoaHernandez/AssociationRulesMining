{
 "cells": [
  {
   "cell_type": "markdown",
   "id": "a291cabf-e219-431e-9c63-2333963b5371",
   "metadata": {},
   "source": [
    "# Imports"
   ]
  },
  {
   "cell_type": "code",
   "execution_count": 29,
   "id": "30f6b555-2bc4-4295-9634-ca6d00e60591",
   "metadata": {},
   "outputs": [],
   "source": [
    "from pandas import read_csv\n",
    "from math import floor\n",
    "from math import log2\n",
    "from itertools import product\n",
    "from pandas import DataFrame as Table\n",
    "from graphviz import Source\n",
    "from pyeda.inter import * # docs https://pyeda.readthedocs.io/en/latest/bdd.html"
   ]
  },
  {
   "cell_type": "markdown",
   "id": "91dd54e0-5bd8-4631-826a-7a69fb3c46c6",
   "metadata": {},
   "source": [
    "# Reading the dataset"
   ]
  },
  {
   "cell_type": "code",
   "execution_count": 2,
   "id": "74e8d475-dd17-4716-8d80-115bfd57b590",
   "metadata": {},
   "outputs": [],
   "source": [
    "DATA = read_csv(\"Wholesale customers data.csv\")"
   ]
  },
  {
   "cell_type": "markdown",
   "id": "d4b06a0a-5a84-4133-abfa-babd1ebf46b8",
   "metadata": {},
   "source": [
    "# Peek into the dataset"
   ]
  },
  {
   "cell_type": "code",
   "execution_count": 4,
   "id": "1eab3484-737f-4ef2-9dce-419606895fe0",
   "metadata": {},
   "outputs": [
    {
     "data": {
      "text/html": [
       "<div>\n",
       "<style scoped>\n",
       "    .dataframe tbody tr th:only-of-type {\n",
       "        vertical-align: middle;\n",
       "    }\n",
       "\n",
       "    .dataframe tbody tr th {\n",
       "        vertical-align: top;\n",
       "    }\n",
       "\n",
       "    .dataframe thead th {\n",
       "        text-align: right;\n",
       "    }\n",
       "</style>\n",
       "<table border=\"1\" class=\"dataframe\">\n",
       "  <thead>\n",
       "    <tr style=\"text-align: right;\">\n",
       "      <th></th>\n",
       "      <th>Channel</th>\n",
       "      <th>Region</th>\n",
       "      <th>Fresh</th>\n",
       "      <th>Milk</th>\n",
       "      <th>Grocery</th>\n",
       "      <th>Frozen</th>\n",
       "      <th>Detergents_Paper</th>\n",
       "      <th>Delicassen</th>\n",
       "    </tr>\n",
       "  </thead>\n",
       "  <tbody>\n",
       "    <tr>\n",
       "      <th>0</th>\n",
       "      <td>2</td>\n",
       "      <td>3</td>\n",
       "      <td>12669</td>\n",
       "      <td>9656</td>\n",
       "      <td>7561</td>\n",
       "      <td>214</td>\n",
       "      <td>2674</td>\n",
       "      <td>1338</td>\n",
       "    </tr>\n",
       "    <tr>\n",
       "      <th>1</th>\n",
       "      <td>2</td>\n",
       "      <td>3</td>\n",
       "      <td>7057</td>\n",
       "      <td>9810</td>\n",
       "      <td>9568</td>\n",
       "      <td>1762</td>\n",
       "      <td>3293</td>\n",
       "      <td>1776</td>\n",
       "    </tr>\n",
       "    <tr>\n",
       "      <th>2</th>\n",
       "      <td>2</td>\n",
       "      <td>3</td>\n",
       "      <td>6353</td>\n",
       "      <td>8808</td>\n",
       "      <td>7684</td>\n",
       "      <td>2405</td>\n",
       "      <td>3516</td>\n",
       "      <td>7844</td>\n",
       "    </tr>\n",
       "    <tr>\n",
       "      <th>3</th>\n",
       "      <td>1</td>\n",
       "      <td>3</td>\n",
       "      <td>13265</td>\n",
       "      <td>1196</td>\n",
       "      <td>4221</td>\n",
       "      <td>6404</td>\n",
       "      <td>507</td>\n",
       "      <td>1788</td>\n",
       "    </tr>\n",
       "    <tr>\n",
       "      <th>4</th>\n",
       "      <td>2</td>\n",
       "      <td>3</td>\n",
       "      <td>22615</td>\n",
       "      <td>5410</td>\n",
       "      <td>7198</td>\n",
       "      <td>3915</td>\n",
       "      <td>1777</td>\n",
       "      <td>5185</td>\n",
       "    </tr>\n",
       "    <tr>\n",
       "      <th>...</th>\n",
       "      <td>...</td>\n",
       "      <td>...</td>\n",
       "      <td>...</td>\n",
       "      <td>...</td>\n",
       "      <td>...</td>\n",
       "      <td>...</td>\n",
       "      <td>...</td>\n",
       "      <td>...</td>\n",
       "    </tr>\n",
       "    <tr>\n",
       "      <th>435</th>\n",
       "      <td>1</td>\n",
       "      <td>3</td>\n",
       "      <td>29703</td>\n",
       "      <td>12051</td>\n",
       "      <td>16027</td>\n",
       "      <td>13135</td>\n",
       "      <td>182</td>\n",
       "      <td>2204</td>\n",
       "    </tr>\n",
       "    <tr>\n",
       "      <th>436</th>\n",
       "      <td>1</td>\n",
       "      <td>3</td>\n",
       "      <td>39228</td>\n",
       "      <td>1431</td>\n",
       "      <td>764</td>\n",
       "      <td>4510</td>\n",
       "      <td>93</td>\n",
       "      <td>2346</td>\n",
       "    </tr>\n",
       "    <tr>\n",
       "      <th>437</th>\n",
       "      <td>2</td>\n",
       "      <td>3</td>\n",
       "      <td>14531</td>\n",
       "      <td>15488</td>\n",
       "      <td>30243</td>\n",
       "      <td>437</td>\n",
       "      <td>14841</td>\n",
       "      <td>1867</td>\n",
       "    </tr>\n",
       "    <tr>\n",
       "      <th>438</th>\n",
       "      <td>1</td>\n",
       "      <td>3</td>\n",
       "      <td>10290</td>\n",
       "      <td>1981</td>\n",
       "      <td>2232</td>\n",
       "      <td>1038</td>\n",
       "      <td>168</td>\n",
       "      <td>2125</td>\n",
       "    </tr>\n",
       "    <tr>\n",
       "      <th>439</th>\n",
       "      <td>1</td>\n",
       "      <td>3</td>\n",
       "      <td>2787</td>\n",
       "      <td>1698</td>\n",
       "      <td>2510</td>\n",
       "      <td>65</td>\n",
       "      <td>477</td>\n",
       "      <td>52</td>\n",
       "    </tr>\n",
       "  </tbody>\n",
       "</table>\n",
       "<p>440 rows × 8 columns</p>\n",
       "</div>"
      ],
      "text/plain": [
       "     Channel  Region  Fresh   Milk  Grocery  Frozen  Detergents_Paper  \\\n",
       "0          2       3  12669   9656     7561     214              2674   \n",
       "1          2       3   7057   9810     9568    1762              3293   \n",
       "2          2       3   6353   8808     7684    2405              3516   \n",
       "3          1       3  13265   1196     4221    6404               507   \n",
       "4          2       3  22615   5410     7198    3915              1777   \n",
       "..       ...     ...    ...    ...      ...     ...               ...   \n",
       "435        1       3  29703  12051    16027   13135               182   \n",
       "436        1       3  39228   1431      764    4510                93   \n",
       "437        2       3  14531  15488    30243     437             14841   \n",
       "438        1       3  10290   1981     2232    1038               168   \n",
       "439        1       3   2787   1698     2510      65               477   \n",
       "\n",
       "     Delicassen  \n",
       "0          1338  \n",
       "1          1776  \n",
       "2          7844  \n",
       "3          1788  \n",
       "4          5185  \n",
       "..          ...  \n",
       "435        2204  \n",
       "436        2346  \n",
       "437        1867  \n",
       "438        2125  \n",
       "439          52  \n",
       "\n",
       "[440 rows x 8 columns]"
      ]
     },
     "execution_count": 4,
     "metadata": {},
     "output_type": "execute_result"
    }
   ],
   "source": [
    "DATA"
   ]
  },
  {
   "cell_type": "markdown",
   "id": "f4db1f2b-2e3b-4139-9131-e9b0fe7f7f6f",
   "metadata": {},
   "source": [
    "# Taking a subset of the data"
   ]
  },
  {
   "cell_type": "code",
   "execution_count": 5,
   "id": "067840e0-590d-46e7-a4b4-9867f83a9ca1",
   "metadata": {},
   "outputs": [
    {
     "data": {
      "text/html": [
       "<div>\n",
       "<style scoped>\n",
       "    .dataframe tbody tr th:only-of-type {\n",
       "        vertical-align: middle;\n",
       "    }\n",
       "\n",
       "    .dataframe tbody tr th {\n",
       "        vertical-align: top;\n",
       "    }\n",
       "\n",
       "    .dataframe thead th {\n",
       "        text-align: right;\n",
       "    }\n",
       "</style>\n",
       "<table border=\"1\" class=\"dataframe\">\n",
       "  <thead>\n",
       "    <tr style=\"text-align: right;\">\n",
       "      <th></th>\n",
       "      <th>Fresh</th>\n",
       "      <th>Milk</th>\n",
       "      <th>Grocery</th>\n",
       "    </tr>\n",
       "  </thead>\n",
       "  <tbody>\n",
       "    <tr>\n",
       "      <th>0</th>\n",
       "      <td>12669</td>\n",
       "      <td>9656</td>\n",
       "      <td>7561</td>\n",
       "    </tr>\n",
       "    <tr>\n",
       "      <th>1</th>\n",
       "      <td>7057</td>\n",
       "      <td>9810</td>\n",
       "      <td>9568</td>\n",
       "    </tr>\n",
       "    <tr>\n",
       "      <th>2</th>\n",
       "      <td>6353</td>\n",
       "      <td>8808</td>\n",
       "      <td>7684</td>\n",
       "    </tr>\n",
       "    <tr>\n",
       "      <th>3</th>\n",
       "      <td>13265</td>\n",
       "      <td>1196</td>\n",
       "      <td>4221</td>\n",
       "    </tr>\n",
       "    <tr>\n",
       "      <th>4</th>\n",
       "      <td>22615</td>\n",
       "      <td>5410</td>\n",
       "      <td>7198</td>\n",
       "    </tr>\n",
       "    <tr>\n",
       "      <th>5</th>\n",
       "      <td>9413</td>\n",
       "      <td>8259</td>\n",
       "      <td>5126</td>\n",
       "    </tr>\n",
       "  </tbody>\n",
       "</table>\n",
       "</div>"
      ],
      "text/plain": [
       "   Fresh  Milk  Grocery\n",
       "0  12669  9656     7561\n",
       "1   7057  9810     9568\n",
       "2   6353  8808     7684\n",
       "3  13265  1196     4221\n",
       "4  22615  5410     7198\n",
       "5   9413  8259     5126"
      ]
     },
     "execution_count": 5,
     "metadata": {},
     "output_type": "execute_result"
    }
   ],
   "source": [
    "SUBSET = DATA.iloc[0:6,2:5]\n",
    "SUBSET"
   ]
  },
  {
   "cell_type": "markdown",
   "id": "4ff2174f-2434-4d8a-b88a-9d3713bac58a",
   "metadata": {},
   "source": [
    "# Calculating the variety of each attribute"
   ]
  },
  {
   "cell_type": "markdown",
   "id": "87e35176-6a76-456d-b707-ef976cbcb4c8",
   "metadata": {},
   "source": [
    "### How many bits per attribute"
   ]
  },
  {
   "cell_type": "code",
   "execution_count": 6,
   "id": "00484d6b-d1a2-451c-80c4-747bc45f7f5e",
   "metadata": {},
   "outputs": [],
   "source": [
    "bits = { attribute : floor(log2(len(set(SUBSET[attribute]))))+1 for attribute in SUBSET.columns }"
   ]
  },
  {
   "cell_type": "code",
   "execution_count": 7,
   "id": "fbac0aac-3c87-4cf1-a83f-a4a9392fa667",
   "metadata": {},
   "outputs": [
    {
     "data": {
      "text/plain": [
       "{'Fresh': 3, 'Milk': 3, 'Grocery': 3}"
      ]
     },
     "execution_count": 7,
     "metadata": {},
     "output_type": "execute_result"
    }
   ],
   "source": [
    "bits"
   ]
  },
  {
   "cell_type": "markdown",
   "id": "2c085f02-67ca-489e-958c-3012d2de4a68",
   "metadata": {},
   "source": [
    "### Ordering values for each column"
   ]
  },
  {
   "cell_type": "code",
   "execution_count": 8,
   "id": "3f2b26bd-447c-480d-aaca-0d615e71eff4",
   "metadata": {},
   "outputs": [],
   "source": [
    "def sort(column):\n",
    "    l = list(set(column))\n",
    "    l.sort()\n",
    "    return l\n",
    "\n",
    "unique_values = { attribute : sort(SUBSET[attribute]) for attribute in SUBSET.columns}"
   ]
  },
  {
   "cell_type": "code",
   "execution_count": 9,
   "id": "e61c033f-b933-4aef-9a7b-81e92fc6505e",
   "metadata": {},
   "outputs": [
    {
     "data": {
      "text/plain": [
       "{'Fresh': [6353, 7057, 9413, 12669, 13265, 22615],\n",
       " 'Milk': [1196, 5410, 8259, 8808, 9656, 9810],\n",
       " 'Grocery': [4221, 5126, 7198, 7561, 7684, 9568]}"
      ]
     },
     "execution_count": 9,
     "metadata": {},
     "output_type": "execute_result"
    }
   ],
   "source": [
    "unique_values"
   ]
  },
  {
   "cell_type": "markdown",
   "id": "d11f725c-67e2-4c61-81d1-fef410a7646a",
   "metadata": {},
   "source": [
    "# Replacing column's values with the binary rappresentation of the index of the element in the list of unique values"
   ]
  },
  {
   "cell_type": "code",
   "execution_count": 10,
   "id": "d6b655ee-bd73-490a-a239-a355699f901e",
   "metadata": {},
   "outputs": [],
   "source": [
    "for attribute in SUBSET.columns:\n",
    "    SUBSET[attribute + \"_bits\"] = SUBSET[attribute].apply(lambda x : str(bin(unique_values[attribute].index(x)))[2:].rjust(bits[attribute],'0'))"
   ]
  },
  {
   "cell_type": "code",
   "execution_count": 11,
   "id": "2af73814-8847-4168-8a47-2686b9ddbbe3",
   "metadata": {},
   "outputs": [
    {
     "data": {
      "text/html": [
       "<div>\n",
       "<style scoped>\n",
       "    .dataframe tbody tr th:only-of-type {\n",
       "        vertical-align: middle;\n",
       "    }\n",
       "\n",
       "    .dataframe tbody tr th {\n",
       "        vertical-align: top;\n",
       "    }\n",
       "\n",
       "    .dataframe thead th {\n",
       "        text-align: right;\n",
       "    }\n",
       "</style>\n",
       "<table border=\"1\" class=\"dataframe\">\n",
       "  <thead>\n",
       "    <tr style=\"text-align: right;\">\n",
       "      <th></th>\n",
       "      <th>Fresh</th>\n",
       "      <th>Milk</th>\n",
       "      <th>Grocery</th>\n",
       "      <th>Fresh_bits</th>\n",
       "      <th>Milk_bits</th>\n",
       "      <th>Grocery_bits</th>\n",
       "    </tr>\n",
       "  </thead>\n",
       "  <tbody>\n",
       "    <tr>\n",
       "      <th>0</th>\n",
       "      <td>12669</td>\n",
       "      <td>9656</td>\n",
       "      <td>7561</td>\n",
       "      <td>011</td>\n",
       "      <td>100</td>\n",
       "      <td>011</td>\n",
       "    </tr>\n",
       "    <tr>\n",
       "      <th>1</th>\n",
       "      <td>7057</td>\n",
       "      <td>9810</td>\n",
       "      <td>9568</td>\n",
       "      <td>001</td>\n",
       "      <td>101</td>\n",
       "      <td>101</td>\n",
       "    </tr>\n",
       "    <tr>\n",
       "      <th>2</th>\n",
       "      <td>6353</td>\n",
       "      <td>8808</td>\n",
       "      <td>7684</td>\n",
       "      <td>000</td>\n",
       "      <td>011</td>\n",
       "      <td>100</td>\n",
       "    </tr>\n",
       "    <tr>\n",
       "      <th>3</th>\n",
       "      <td>13265</td>\n",
       "      <td>1196</td>\n",
       "      <td>4221</td>\n",
       "      <td>100</td>\n",
       "      <td>000</td>\n",
       "      <td>000</td>\n",
       "    </tr>\n",
       "    <tr>\n",
       "      <th>4</th>\n",
       "      <td>22615</td>\n",
       "      <td>5410</td>\n",
       "      <td>7198</td>\n",
       "      <td>101</td>\n",
       "      <td>001</td>\n",
       "      <td>010</td>\n",
       "    </tr>\n",
       "    <tr>\n",
       "      <th>5</th>\n",
       "      <td>9413</td>\n",
       "      <td>8259</td>\n",
       "      <td>5126</td>\n",
       "      <td>010</td>\n",
       "      <td>010</td>\n",
       "      <td>001</td>\n",
       "    </tr>\n",
       "  </tbody>\n",
       "</table>\n",
       "</div>"
      ],
      "text/plain": [
       "   Fresh  Milk  Grocery Fresh_bits Milk_bits Grocery_bits\n",
       "0  12669  9656     7561        011       100          011\n",
       "1   7057  9810     9568        001       101          101\n",
       "2   6353  8808     7684        000       011          100\n",
       "3  13265  1196     4221        100       000          000\n",
       "4  22615  5410     7198        101       001          010\n",
       "5   9413  8259     5126        010       010          001"
      ]
     },
     "execution_count": 11,
     "metadata": {},
     "output_type": "execute_result"
    }
   ],
   "source": [
    "SUBSET"
   ]
  },
  {
   "cell_type": "markdown",
   "id": "bf054cdc-52c2-4fae-bc03-14d982d6d092",
   "metadata": {},
   "source": [
    "# OBDD"
   ]
  },
  {
   "cell_type": "markdown",
   "id": "e8a18712-b934-4bb5-ae66-8f2d1ea90a24",
   "metadata": {},
   "source": [
    "### Less or equals than\n",
    "$$\n",
    "leq(b,e) = \\neg b \\vee e\n",
    "$$\n",
    "\n",
    "| b | e | $\\neg b \\vee e$ |\n",
    "|---|---|:-:|\n",
    "| 0 | 0 | 1 |\n",
    "| 0 | 1 | 1 |\n",
    "| 1 | 0 | 0 |\n",
    "| 1 | 1 | 1 |"
   ]
  },
  {
   "cell_type": "markdown",
   "id": "5a898b63-ead9-4698-8ad2-9350b3e93cf7",
   "metadata": {},
   "source": [
    "| b0 | b1 |  dec | e0 | e1 | dec |\n",
    "|----|----|----|--- |----|---|\n",
    "| 0  | 0  | 0  | 1  | 1  | 3 |"
   ]
  },
  {
   "cell_type": "code",
   "execution_count": 60,
   "id": "4a10065d-7f4b-4d56-bdc0-95c93b6a7fb5",
   "metadata": {},
   "outputs": [],
   "source": [
    "f = expr2bdd(expr('~b0|e0 & ~b1|e1'))"
   ]
  },
  {
   "cell_type": "code",
   "execution_count": 63,
   "id": "7e2289b2-c917-471d-bfd6-678ed25277b5",
   "metadata": {},
   "outputs": [
    {
     "data": {
      "text/plain": [
       "[{b0: 0},\n",
       " {b0: 1, e0: 0, e1: 1},\n",
       " {b0: 1, e0: 1, b1: 0},\n",
       " {b0: 1, e0: 1, b1: 1, e1: 1}]"
      ]
     },
     "execution_count": 63,
     "metadata": {},
     "output_type": "execute_result"
    }
   ],
   "source": [
    "list(f.satisfy_all())"
   ]
  },
  {
   "cell_type": "code",
   "execution_count": 77,
   "id": "2488d034-2b0a-4178-b4e7-26e13e2b4d00",
   "metadata": {},
   "outputs": [
    {
     "data": {
      "text/plain": [
       "[{b0: 0},\n",
       " {b0: 1, e0: 0, e1: 1},\n",
       " {b0: 1, e0: 1, b1: 0},\n",
       " {b0: 1, e0: 1, b1: 1, e1: 1}]"
      ]
     },
     "execution_count": 77,
     "metadata": {},
     "output_type": "execute_result"
    }
   ],
   "source": [
    "list(f.satisfy_all())"
   ]
  },
  {
   "cell_type": "code",
   "execution_count": 78,
   "id": "22af3cf1-53cc-428f-8b70-b7f75a13b17e",
   "metadata": {},
   "outputs": [
    {
     "data": {
      "image/svg+xml": [
       "<?xml version=\"1.0\" encoding=\"UTF-8\" standalone=\"no\"?>\n",
       "<!DOCTYPE svg PUBLIC \"-//W3C//DTD SVG 1.1//EN\"\n",
       " \"http://www.w3.org/Graphics/SVG/1.1/DTD/svg11.dtd\">\n",
       "<!-- Generated by graphviz version 2.43.0 (0)\n",
       " -->\n",
       "<!-- Title: BDD Pages: 1 -->\n",
       "<svg width=\"159pt\" height=\"427pt\"\n",
       " viewBox=\"0.00 0.00 158.75 427.38\" xmlns=\"http://www.w3.org/2000/svg\" xmlns:xlink=\"http://www.w3.org/1999/xlink\">\n",
       "<g id=\"graph0\" class=\"graph\" transform=\"scale(1 1) rotate(0) translate(4 423.38)\">\n",
       "<title>BDD</title>\n",
       "<polygon fill=\"white\" stroke=\"transparent\" points=\"-4,4 -4,-423.38 154.75,-423.38 154.75,4 -4,4\"/>\n",
       "<!-- n140486159303776 -->\n",
       "<g id=\"node1\" class=\"node\">\n",
       "<title>n140486159303776</title>\n",
       "<polygon fill=\"none\" stroke=\"black\" points=\"78.75,-36 24.75,-36 24.75,0 78.75,0 78.75,-36\"/>\n",
       "<text text-anchor=\"middle\" x=\"51.75\" y=\"-14.3\" font-family=\"Times,serif\" font-size=\"14.00\">1</text>\n",
       "</g>\n",
       "<!-- n140486158924336 -->\n",
       "<g id=\"node2\" class=\"node\">\n",
       "<title>n140486158924336</title>\n",
       "<polygon fill=\"none\" stroke=\"black\" points=\"150.75,-36 96.75,-36 96.75,0 150.75,0 150.75,-36\"/>\n",
       "<text text-anchor=\"middle\" x=\"123.75\" y=\"-14.3\" font-family=\"Times,serif\" font-size=\"14.00\">0</text>\n",
       "</g>\n",
       "<!-- n140486151366176 -->\n",
       "<g id=\"node3\" class=\"node\">\n",
       "<title>n140486151366176</title>\n",
       "<ellipse fill=\"none\" stroke=\"black\" cx=\"110.75\" cy=\"-109.1\" rx=\"22.2\" ry=\"22.2\"/>\n",
       "<text text-anchor=\"middle\" x=\"110.75\" y=\"-105.4\" font-family=\"Times,serif\" font-size=\"14.00\">e1</text>\n",
       "</g>\n",
       "<!-- n140486151366176&#45;&#45;n140486159303776 -->\n",
       "<g id=\"edge2\" class=\"edge\">\n",
       "<title>n140486151366176&#45;&#45;n140486159303776</title>\n",
       "<path fill=\"none\" stroke=\"black\" d=\"M98.81,-90.07C88.37,-74.3 73.32,-51.58 63.07,-36.1\"/>\n",
       "<text text-anchor=\"middle\" x=\"89.75\" y=\"-57.8\" font-family=\"Times,serif\" font-size=\"14.00\">1</text>\n",
       "</g>\n",
       "<!-- n140486151366176&#45;&#45;n140486158924336 -->\n",
       "<g id=\"edge1\" class=\"edge\">\n",
       "<title>n140486151366176&#45;&#45;n140486158924336</title>\n",
       "<path fill=\"none\" stroke=\"black\" stroke-dasharray=\"5,2\" d=\"M113.83,-86.98C116.1,-71.44 119.14,-50.58 121.26,-36.09\"/>\n",
       "<text text-anchor=\"middle\" x=\"122.75\" y=\"-57.8\" font-family=\"Times,serif\" font-size=\"14.00\">0</text>\n",
       "</g>\n",
       "<!-- n140486151371840 -->\n",
       "<g id=\"node4\" class=\"node\">\n",
       "<title>n140486151371840</title>\n",
       "<ellipse fill=\"none\" stroke=\"black\" cx=\"57.75\" cy=\"-204.94\" rx=\"23\" ry=\"23\"/>\n",
       "<text text-anchor=\"middle\" x=\"57.75\" y=\"-201.24\" font-family=\"Times,serif\" font-size=\"14.00\">b1</text>\n",
       "</g>\n",
       "<!-- n140486151371840&#45;&#45;n140486159303776 -->\n",
       "<g id=\"edge3\" class=\"edge\">\n",
       "<title>n140486151371840&#45;&#45;n140486159303776</title>\n",
       "<path fill=\"none\" stroke=\"black\" stroke-dasharray=\"5,2\" d=\"M57.04,-182C55.83,-144.78 53.4,-70.03 52.31,-36.26\"/>\n",
       "<text text-anchor=\"middle\" x=\"59.75\" y=\"-105.4\" font-family=\"Times,serif\" font-size=\"14.00\">0</text>\n",
       "</g>\n",
       "<!-- n140486151371840&#45;&#45;n140486151366176 -->\n",
       "<g id=\"edge4\" class=\"edge\">\n",
       "<title>n140486151371840&#45;&#45;n140486151366176</title>\n",
       "<path fill=\"none\" stroke=\"black\" d=\"M68.73,-184.5C77.95,-168.18 91.03,-145.01 100.14,-128.88\"/>\n",
       "<text text-anchor=\"middle\" x=\"91.75\" y=\"-153\" font-family=\"Times,serif\" font-size=\"14.00\">1</text>\n",
       "</g>\n",
       "<!-- n140486151371024 -->\n",
       "<g id=\"node5\" class=\"node\">\n",
       "<title>n140486151371024</title>\n",
       "<ellipse fill=\"none\" stroke=\"black\" cx=\"57.75\" cy=\"-300.79\" rx=\"22.2\" ry=\"22.2\"/>\n",
       "<text text-anchor=\"middle\" x=\"57.75\" y=\"-297.09\" font-family=\"Times,serif\" font-size=\"14.00\">e0</text>\n",
       "</g>\n",
       "<!-- n140486151371024&#45;&#45;n140486151366176 -->\n",
       "<g id=\"edge5\" class=\"edge\">\n",
       "<title>n140486151371024&#45;&#45;n140486151366176</title>\n",
       "<path fill=\"none\" stroke=\"black\" stroke-dasharray=\"5,2\" d=\"M67.6,-280.99C74.7,-266.72 84.01,-246.42 89.75,-227.69 99.83,-194.78 105.67,-155.1 108.52,-131.28\"/>\n",
       "<text text-anchor=\"middle\" x=\"104.75\" y=\"-201.24\" font-family=\"Times,serif\" font-size=\"14.00\">0</text>\n",
       "</g>\n",
       "<!-- n140486151371024&#45;&#45;n140486151371840 -->\n",
       "<g id=\"edge6\" class=\"edge\">\n",
       "<title>n140486151371024&#45;&#45;n140486151371840</title>\n",
       "<path fill=\"none\" stroke=\"black\" d=\"M57.75,-278.49C57.75,-263.35 57.75,-243.07 57.75,-227.81\"/>\n",
       "<text text-anchor=\"middle\" x=\"62.75\" y=\"-249.49\" font-family=\"Times,serif\" font-size=\"14.00\">1</text>\n",
       "</g>\n",
       "<!-- n140486151371216 -->\n",
       "<g id=\"node6\" class=\"node\">\n",
       "<title>n140486151371216</title>\n",
       "<ellipse fill=\"none\" stroke=\"black\" cx=\"22.75\" cy=\"-396.64\" rx=\"23\" ry=\"23\"/>\n",
       "<text text-anchor=\"middle\" x=\"22.75\" y=\"-392.94\" font-family=\"Times,serif\" font-size=\"14.00\">b0</text>\n",
       "</g>\n",
       "<!-- n140486151371216&#45;&#45;n140486159303776 -->\n",
       "<g id=\"edge7\" class=\"edge\">\n",
       "<title>n140486151371216&#45;&#45;n140486159303776</title>\n",
       "<path fill=\"none\" stroke=\"black\" stroke-dasharray=\"5,2\" d=\"M17.06,-374.57C12.46,-355.66 6.75,-327.08 6.75,-301.79 6.75,-301.79 6.75,-301.79 6.75,-108.1 6.75,-80.72 23.89,-53.2 37.01,-36.14\"/>\n",
       "<text text-anchor=\"middle\" x=\"11.75\" y=\"-201.24\" font-family=\"Times,serif\" font-size=\"14.00\">0</text>\n",
       "</g>\n",
       "<!-- n140486151371216&#45;&#45;n140486151371024 -->\n",
       "<g id=\"edge8\" class=\"edge\">\n",
       "<title>n140486151371216&#45;&#45;n140486151371024</title>\n",
       "<path fill=\"none\" stroke=\"black\" d=\"M30.52,-374.81C36.4,-359.04 44.43,-337.51 50.24,-321.92\"/>\n",
       "<text text-anchor=\"middle\" x=\"46.75\" y=\"-344.69\" font-family=\"Times,serif\" font-size=\"14.00\">1</text>\n",
       "</g>\n",
       "</g>\n",
       "</svg>\n"
      ],
      "text/plain": [
       "<graphviz.sources.Source at 0x7fc57b25fb20>"
      ]
     },
     "execution_count": 78,
     "metadata": {},
     "output_type": "execute_result"
    }
   ],
   "source": [
    "Source(f.to_dot())"
   ]
  }
 ],
 "metadata": {
  "kernelspec": {
   "display_name": "Python 3 (ipykernel)",
   "language": "python",
   "name": "python3"
  },
  "language_info": {
   "codemirror_mode": {
    "name": "ipython",
    "version": 3
   },
   "file_extension": ".py",
   "mimetype": "text/x-python",
   "name": "python",
   "nbconvert_exporter": "python",
   "pygments_lexer": "ipython3",
   "version": "3.10.12"
  }
 },
 "nbformat": 4,
 "nbformat_minor": 5
}
